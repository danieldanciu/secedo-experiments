{
 "cells": [
  {
   "cell_type": "code",
   "execution_count": null,
   "id": "relevant-locator",
   "metadata": {
    "ExecuteTime": {
     "end_time": "2021-08-31T11:30:55.610524Z",
     "start_time": "2021-08-31T11:30:54.935061Z"
    }
   },
   "outputs": [],
   "source": [
    "# Plot eigenvectors for the Varsim simulated dataset\n",
    "\n",
    "import matplotlib.pyplot as plt\n",
    "import numpy as np\n",
    "import seaborn as sns\n",
    "\n",
    "cluster=''\n",
    "base_dir = f'/Users/dd/work/svc/data/melanoma/'\n",
    "data = np.loadtxt(f'{base_dir}/sim_mat_eigenvectors_norm{cluster}.csv')\n",
    "\n",
    "#colors=['red', 'blue', 'magenta', 'green']\n",
    "colors = sns.color_palette('bright')\n",
    "colors.append(sns.color_palette('deep'))\n",
    "\n",
    "\n",
    "gt_lines = open(f'{base_dir}/clustering.tsv').readlines()\n",
    "\n",
    "our_clustering_all = np.loadtxt(f'{base_dir}/spectral_clustering{cluster}', delimiter=',', dtype=np.int)\n",
    "\n",
    "gt_letters = [] # the letters A,B,C,D for the ground-truth clusters\n",
    "gt = [] # the ground truth colors, corresponding to ABCD\n",
    "gt_subclusters = [] # the ground truth subclusters, from 1 to 11\n",
    "\n",
    "\n",
    "our_clustering = []\n",
    "for i in range(0, len(our_clustering_all)):\n",
    "    if our_clustering_all[i] == 16383:\n",
    "        continue\n",
    "    our_clustering.append(our_clustering_all[i])\n",
    "    line = gt_lines[i]\n",
    "    gt_letter = line[:-1].strip().split('\\t')[-1]\n",
    "    gt_letters.append(gt_letter)\n",
    "    cluster = ord(gt_letter)-ord('A')\n",
    "    subcluster = int(line[:-1].strip().split('\\t')[-2]) % 10\n",
    "    gt.append(colors[cluster])\n",
    "    gt_subclusters.append(colors[subcluster])\n",
    "\n",
    "\n",
    "\n",
    "our_clustering_colors = [colors[c] for c in our_clustering]\n",
    "\n",
    "\n",
    "x1 = data[:1500,1]\n",
    "y1 = data[:1500,2]\n",
    "\n",
    "fig, axs = plt.subplots(1, 1, figsize=(15,5))\n",
    "axs.scatter(x1,y1, color = gt)\n",
    "axs.set(xlabel='2nd eigenvector', ylabel='3rd eigenvector')\n",
    "\n",
    "fig, axs = plt.subplots(1, 1, figsize=(15,5))\n",
    "axs.scatter(x1,y1, color = gt_subclusters, label=gt_letters)\n",
    "axs.set(xlabel='2nd eigenvector', ylabel='3rd eigenvector')\n",
    "\n",
    "fig, axs = plt.subplots(1, 1, figsize=(15,5))\n",
    "axs.scatter(x1,y1, color = our_clustering_colors)\n",
    "axs.set(xlabel='2nd eigenvector', ylabel='3rd eigenvector')\n"
   ]
  }
 ],
 "metadata": {
  "kernelspec": {
   "display_name": "Python 3",
   "language": "python",
   "name": "python3"
  },
  "language_info": {
   "codemirror_mode": {
    "name": "ipython",
    "version": 3
   },
   "file_extension": ".py",
   "mimetype": "text/x-python",
   "name": "python",
   "nbconvert_exporter": "python",
   "pygments_lexer": "ipython3",
   "version": "3.7.10"
  }
 },
 "nbformat": 4,
 "nbformat_minor": 5
}
